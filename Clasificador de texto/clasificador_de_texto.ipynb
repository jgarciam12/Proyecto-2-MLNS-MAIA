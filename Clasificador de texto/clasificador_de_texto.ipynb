{
 "cells": [
  {
   "cell_type": "markdown",
   "id": "2bf9a943-01ce-46b0-bd65-7a113677f46d",
   "metadata": {},
   "source": [
    "# Universidad de los Andes"
   ]
  },
  {
   "cell_type": "markdown",
   "id": "bf1eb33e-5ab7-4a7f-b79c-d48f093e80fd",
   "metadata": {},
   "source": [
    "Proyecto presentado por:\n",
    "* Javier Camilo Garcia Matos\n",
    "* Daniel Felipe Caro Torres"
   ]
  },
  {
   "cell_type": "markdown",
   "id": "f981f0f3",
   "metadata": {},
   "source": [
    "## Proyecto: Claficador de texto según las 17 ODS\n",
    "\n",
    "El objetivo del proyecto es desarrollar una solución, basada en técnicas de procesamiento del\n",
    "lenguaje natural y machine learning, que permita clasificar automáticamente un texto en los\n",
    "17 ODS, ofreciendo una forma de presentación de resultados a través de una herramienta de\n",
    "fácil comprensión para el usuario final."
   ]
  },
  {
   "cell_type": "markdown",
   "id": "25429c22-7d5f-4daf-87d0-c5cac81cd302",
   "metadata": {},
   "source": [
    "### Planteamiento del problema y solucion"
   ]
  },
  {
   "cell_type": "markdown",
   "id": "5dcf383a-062f-421c-b2a2-ac07c33a58b9",
   "metadata": {},
   "source": [
    "En el marco de los Objetivos de Desarrollo Sostenible (ODS) de la ONU, muchas organizaciones buscan clasificar grandes volúmenes de texto para entender qué partes de la información corresponden a cada objetivo: fin de la pobreza, salud y bienestar, educación de calidad, igualdad de género, etc. Para ello, se pueden usar técnicas de procesamiento de lenguaje natural (NLP) y machine learning, evitando el análisis manual de miles de documentos."
   ]
  },
  {
   "cell_type": "markdown",
   "id": "923f3c06",
   "metadata": {},
   "source": [
    "## Objetivo"
   ]
  },
  {
   "cell_type": "markdown",
   "id": "614f8752",
   "metadata": {},
   "source": [
    "Desarrollar un modelo basado en técnicas de Machine Leanring usando técnicas de procesamiento de lenguaje natural para facilitar la clasificación de textos de Objetivos de Desarrollo Sostenible para su encontrar relaciones semánticas y facilitar su análisis."
   ]
  },
  {
   "cell_type": "markdown",
   "id": "ebfb22dd-ff8f-4fa2-8638-0cd08cd4f08f",
   "metadata": {},
   "source": [
    "###### Este notebook presentará el desarrollo paso a paso de un clasificador entrenado en textos en español, siguiendo el flujo:\n",
    "\n",
    "1. Importación y exploración de datos\n",
    "2. Separación de train/test/validación\n",
    "3. Preprocesamiento (limpieza, stopwords, stemming, etc.)\n",
    "4. Vectorización (TF-IDF)\n",
    "5. Reducción de dimensionalidad (SVD)\n",
    "6. Entrenamiento y selección de modelo\n",
    "7. Evaluación (métricas y ejemplos concretos en un conjunto de prueba)\n",
    "8. Conclusiones\n",
    "\n",
    "Se finaliza mostrando la clasificación de algunos ejemplos de test, verificando la utilidad del modelo."
   ]
  },
  {
   "cell_type": "markdown",
   "id": "1663ee00-0760-447b-b747-988631af73a8",
   "metadata": {},
   "source": [
    "#### 1. Importación y exploración de datos"
   ]
  },
  {
   "cell_type": "markdown",
   "id": "794e51d9",
   "metadata": {},
   "source": [
    "Se importan las como pandas, sklearn, nltk y numpy. En particular, se usa lase siguientes clases y funciones:\n",
    "* RegexpTokenizer: Tokeniza el texto dividiéndolo en palabras usando una expresión regular. Se usa para eliminar puntuaciones y extraer solo palabras.\n",
    "* stopwords: Lista de palabras vacías (stopwords) en diferentes idiomas. Se usa para eliminar palabras comunes que no aportan significado (como \"el\", \"de\", \"y\").\n",
    "* SnowballStemmer: Realiza stemming (reducción de palabras a su raíz) en diferentes idiomas. Se usa para reducir palabras a su forma bas\n",
    "* CountVectorizer: Convierte texto en una matriz de frecuencia de palabras. Se usa en modelos de NLP para representar texto numéricamente.\n",
    "* TfidfVectorizer: Convierte texto en una matriz de TF-IDF (Term Frequency - Inverse Document Frequency). Se usa para ponderar palabras según su importancia en un corpus.\n",
    "* TruncatedSVD: Reduce la dimensionalidad de los datos aplicando SVD (descomposición en valores singulares). Se usa para reducir la matriz de características en NLP.\n",
    "* LogisticRegression: Implementa un modelo de regresión logística para clasificación. Se usa para clasificar textos en diferentes categorías.\n",
    "* GridSearchCV: Realiza búsqueda de hiperparámetros usando validación cruzada. Se usa para encontrar los mejores valores de parámetros en modelos de Machine Learning."
   ]
  },
  {
   "cell_type": "code",
   "execution_count": 102,
   "id": "96046449",
   "metadata": {},
   "outputs": [
    {
     "name": "stderr",
     "output_type": "stream",
     "text": [
      "[nltk_data] Downloading package stopwords to\n",
      "[nltk_data]     C:\\Users\\LENOVO\\AppData\\Roaming\\nltk_data...\n",
      "[nltk_data]   Package stopwords is already up-to-date!\n"
     ]
    },
    {
     "data": {
      "text/plain": [
       "True"
      ]
     },
     "execution_count": 102,
     "metadata": {},
     "output_type": "execute_result"
    }
   ],
   "source": [
    "import nltk\n",
    "import numpy as np\n",
    "import pandas as pd\n",
    "from nltk import RegexpTokenizer\n",
    "from nltk.corpus import stopwords\n",
    "from nltk.stem import SnowballStemmer # SnowballStemmer para espa;ol\n",
    "\n",
    "# entrenar/validar el modelo\n",
    "from sklearn.model_selection import train_test_split\n",
    "\n",
    "# Representación de textos\n",
    "from sklearn.feature_extraction.text import CountVectorizer\n",
    "from sklearn.feature_extraction.text import TfidfVectorizer\n",
    "\n",
    "# Reducción de dimensionalidad\n",
    "from sklearn.decomposition import TruncatedSVD\n",
    "\n",
    "#-----------------\n",
    "\n",
    "# Clasificadores \n",
    "from sklearn.linear_model import LogisticRegression\n",
    "\n",
    "# Para métricas de evaluación\n",
    "from sklearn.metrics import classification_report, confusion_matrix\n",
    "\n",
    "# Para pipeline y búsqueda de hiperparámetros\n",
    "from sklearn.pipeline import Pipeline\n",
    "from sklearn.model_selection import GridSearchCV\n",
    "\n",
    "import seaborn as sns\n",
    "import matplotlib.pyplot as plt\n",
    "nltk.download('stopwords')  \n"
   ]
  },
  {
   "cell_type": "markdown",
   "id": "f9ad79b5-1ac4-4e44-80df-b6fbbac5bda0",
   "metadata": {},
   "source": [
    "##### Carga y exploración de datos"
   ]
  },
  {
   "cell_type": "code",
   "execution_count": 77,
   "id": "f7c19bb0",
   "metadata": {},
   "outputs": [
    {
     "data": {
      "text/html": [
       "<div>\n",
       "<style scoped>\n",
       "    .dataframe tbody tr th:only-of-type {\n",
       "        vertical-align: middle;\n",
       "    }\n",
       "\n",
       "    .dataframe tbody tr th {\n",
       "        vertical-align: top;\n",
       "    }\n",
       "\n",
       "    .dataframe thead th {\n",
       "        text-align: right;\n",
       "    }\n",
       "</style>\n",
       "<table border=\"1\" class=\"dataframe\">\n",
       "  <thead>\n",
       "    <tr style=\"text-align: right;\">\n",
       "      <th></th>\n",
       "      <th>textos</th>\n",
       "      <th>ODS</th>\n",
       "    </tr>\n",
       "  </thead>\n",
       "  <tbody>\n",
       "    <tr>\n",
       "      <th>3214</th>\n",
       "      <td>Las organizaciones de mujeres de la sociedad c...</td>\n",
       "      <td>5</td>\n",
       "    </tr>\n",
       "    <tr>\n",
       "      <th>9316</th>\n",
       "      <td>Los Estados miembros de la Unión Europea se ha...</td>\n",
       "      <td>16</td>\n",
       "    </tr>\n",
       "    <tr>\n",
       "      <th>7521</th>\n",
       "      <td>ResumenLas reglas de jurisdicción e inmunidad ...</td>\n",
       "      <td>16</td>\n",
       "    </tr>\n",
       "    <tr>\n",
       "      <th>6609</th>\n",
       "      <td>En la mayoría de los países, la redistribución...</td>\n",
       "      <td>10</td>\n",
       "    </tr>\n",
       "    <tr>\n",
       "      <th>4264</th>\n",
       "      <td>Este capítulo explora cómo una red de defensor...</td>\n",
       "      <td>16</td>\n",
       "    </tr>\n",
       "  </tbody>\n",
       "</table>\n",
       "</div>"
      ],
      "text/plain": [
       "                                                 textos  ODS\n",
       "3214  Las organizaciones de mujeres de la sociedad c...    5\n",
       "9316  Los Estados miembros de la Unión Europea se ha...   16\n",
       "7521  ResumenLas reglas de jurisdicción e inmunidad ...   16\n",
       "6609  En la mayoría de los países, la redistribución...   10\n",
       "4264  Este capítulo explora cómo una red de defensor...   16"
      ]
     },
     "execution_count": 77,
     "metadata": {},
     "output_type": "execute_result"
    }
   ],
   "source": [
    "df = pd.read_excel('Train_textosODS.xlsx')\n",
    "df.sample(5)"
   ]
  },
  {
   "cell_type": "code",
   "execution_count": 78,
   "id": "4b9ecc65",
   "metadata": {},
   "outputs": [
    {
     "name": "stdout",
     "output_type": "stream",
     "text": [
      "Tamaño de los datos: (9656, 2)\n"
     ]
    }
   ],
   "source": [
    "print('Tamaño de los datos:',df.shape)"
   ]
  },
  {
   "cell_type": "code",
   "execution_count": 79,
   "id": "1ffec8c4",
   "metadata": {},
   "outputs": [
    {
     "name": "stdout",
     "output_type": "stream",
     "text": [
      "Cantidad de datos nulos:\n",
      "textos    0\n",
      "ODS       0\n",
      "dtype: int64\n"
     ]
    }
   ],
   "source": [
    "print('Cantidad de datos nulos:')\n",
    "print(df.isna().sum())"
   ]
  },
  {
   "cell_type": "code",
   "execution_count": 80,
   "id": "414b489e",
   "metadata": {},
   "outputs": [
    {
     "name": "stdout",
     "output_type": "stream",
     "text": [
      "Cantidad de datos duplicados:\n",
      "0\n"
     ]
    }
   ],
   "source": [
    "print('Cantidad de datos duplicados:')\n",
    "print(df.duplicated().sum())"
   ]
  },
  {
   "cell_type": "code",
   "execution_count": 109,
   "id": "851d9b5e",
   "metadata": {},
   "outputs": [
    {
     "data": {
      "image/png": "[encoded data removed]",
      "text/plain": [
       "<Figure size 640x480 with 1 Axes>"
      ]
     },
     "metadata": {},
     "output_type": "display_data"
    }
   ],
   "source": [
    "status_counts = df['ODS'].value_counts()\n",
    "status_counts.plot(kind='bar')\n",
    "plt.show()"
   ]
  },
  {
   "cell_type": "markdown",
   "id": "acc461dd",
   "metadata": {},
   "source": [
    "Se evidencia en la grafica anterior que los datos no están balanceados lo cual podría producir sesgos en el modelo."
   ]
  },
  {
   "cell_type": "markdown",
   "id": "8bbfd096-6423-4e03-9ca2-5ca412f32440",
   "metadata": {},
   "source": [
    "#### 2. Separación de train/test"
   ]
  },
  {
   "cell_type": "code",
   "execution_count": 81,
   "id": "9df9c75b",
   "metadata": {},
   "outputs": [
    {
     "name": "stdout",
     "output_type": "stream",
     "text": [
      "Cantidad de datos de entrenamiento: 7724\n",
      "Cantidad de datos de prueba: 1932\n"
     ]
    }
   ],
   "source": [
    "df_train, df_test = train_test_split(df, test_size = 0.2, random_state=0)\n",
    "print('Cantidad de datos de entrenamiento:',len(df_train))\n",
    "print('Cantidad de datos de prueba:',len(df_test))\n",
    "\n"
   ]
  },
  {
   "cell_type": "code",
   "execution_count": 82,
   "id": "1c86ff2f",
   "metadata": {},
   "outputs": [],
   "source": [
    "x_train = df_train['textos']\n",
    "y_train = df_train['ODS']\n",
    "\n",
    "x_test = df_test['textos']\n",
    "y_test = df_test['ODS']"
   ]
  },
  {
   "cell_type": "markdown",
   "id": "cc8f153e-485a-45bb-a17d-09e7529cf51c",
   "metadata": {},
   "source": [
    "#### 3. Preprocesamiento (limpieza, stopwords, stemming, etc.)"
   ]
  },
  {
   "cell_type": "markdown",
   "id": "8c7f1b74",
   "metadata": {},
   "source": [
    "La siguiente función (text_preprocess) actúa de la siguiente manera:\n",
    "* Divide el texto en palabras usando una expresión regular (\\w+) que elimina puntuación.\n",
    "* Minúsculas: Convierte el texto a minúsculas.\n",
    "* Eliminación de stopwords: Quita palabras comunes sin significado relevante (como \"el\", \"de\", \"y\").\n",
    "* Stemming: Reduce las palabras a su raíz (por ejemplo, \"corriendo\" → \"corr\").\n",
    "* Salida: Retorna el texto procesado como una cadena con las palabras transformadas"
   ]
  },
  {
   "cell_type": "code",
   "execution_count": 83,
   "id": "8265f539",
   "metadata": {},
   "outputs": [],
   "source": [
    "def text_preprocess(text):\n",
    "    tokenizer = RegexpTokenizer(r'\\w+')\n",
    "    stemmer = nltk.SnowballStemmer('spanish')  # Stemming en español\n",
    "    spanish_stops = set(stopwords.words('spanish'))\n",
    "    \n",
    "    # minúsculas\n",
    "    text = text.lower()\n",
    "\n",
    "    tokens = tokenizer.tokenize(text)\n",
    "    # remover stopwords\n",
    "    tokens = [word for word in tokens if word not in spanish_stops]\n",
    "    # stemming\n",
    "    tokens = [stemmer.stem(word) for word in tokens]\n",
    "    return ' '.join(tokens)\n",
    "\n"
   ]
  },
  {
   "cell_type": "markdown",
   "id": "02698347-8b1f-45fc-8ff6-dbd017c91021",
   "metadata": {},
   "source": [
    "#### 4. Vectorización (TF-IDF)"
   ]
  },
  {
   "cell_type": "markdown",
   "id": "26bb3285",
   "metadata": {},
   "source": [
    "Se crea un vectorizador TF-IDF (TfidfVectorizer) que transformará los textos en representaciones numéricas basadas en la Frecuencia de Término - Frecuencia Inversa de Documento (TF-IDF)."
   ]
  },
  {
   "cell_type": "code",
   "execution_count": 84,
   "id": "150d681e",
   "metadata": {},
   "outputs": [],
   "source": [
    "vectorizer = TfidfVectorizer(preprocessor=text_preprocess)"
   ]
  },
  {
   "cell_type": "markdown",
   "id": "f9e7441b-724c-4f5a-a097-539af6731107",
   "metadata": {},
   "source": [
    "#### 5. Reducción de dimensionalidad (SVD)"
   ]
  },
  {
   "cell_type": "markdown",
   "id": "acbf09b1-4968-4523-a77f-531b27e30661",
   "metadata": {},
   "source": [
    "Se emplea TruncatedSVD para la reducción de dimensionalidad, ya que es particularmente adecuado para datos dispersos, como los obtenidos mediante TF-IDF. A diferencia de otros métodos como PCA, TruncatedSVD no requiere centrar los datos en torno a la media, lo que permite su aplicación eficiente sobre matrices dispersas sin comprometer el rendimiento computacional. Se usa 100 componentes en TruncatedSVD como un punto de equilibrio entre la reducción de dimensionalidad y la preservación de la información."
   ]
  },
  {
   "cell_type": "code",
   "execution_count": 85,
   "id": "e2d4d7ae-2780-4fc8-b2cc-c1f3b7836091",
   "metadata": {},
   "outputs": [],
   "source": [
    "tsvd = TruncatedSVD(n_components=100, random_state=42)"
   ]
  },
  {
   "cell_type": "markdown",
   "id": "e69625fb-c481-45bc-b932-6877435d1bfe",
   "metadata": {},
   "source": [
    "#### 6. Entrenamiento y selección de modelo"
   ]
  },
  {
   "cell_type": "markdown",
   "id": "04705dfd-1e27-4e27-a062-9a25e55fe9df",
   "metadata": {},
   "source": [
    "Se hace uso de la Regresión Logística multiclase"
   ]
  },
  {
   "cell_type": "code",
   "execution_count": 95,
   "id": "0528e085",
   "metadata": {},
   "outputs": [],
   "source": [
    "clf = LogisticRegression(\n",
    "    multi_class='multinomial',\n",
    "    solver='saga', #Utiliza el algoritmo de optimización SAGA, que es eficiente para conjuntos de datos grandes y dispersos.\n",
    "    max_iter=1000,\n",
    "    random_state=42\n",
    ")\n"
   ]
  },
  {
   "cell_type": "markdown",
   "id": "b0345f47",
   "metadata": {},
   "source": [
    "Se crea el Pipeline de procesamiento de datos"
   ]
  },
  {
   "cell_type": "code",
   "execution_count": 89,
   "id": "d7950151",
   "metadata": {},
   "outputs": [],
   "source": [
    "full_pipeline = Pipeline([\n",
    "    ('tfidf', vectorizer),\n",
    "    ('svd', tsvd),\n",
    "    ('clf', clf)\n",
    "])\n"
   ]
  },
  {
   "cell_type": "markdown",
   "id": "ea125901-95ec-4bc9-b54c-34770a997333",
   "metadata": {},
   "source": [
    "##### Búsqueda de hiperparámetros "
   ]
  },
  {
   "cell_type": "markdown",
   "id": "71832235",
   "metadata": {},
   "source": [
    "Se buscan los mejores hiperparametros de una lista acotada"
   ]
  },
  {
   "cell_type": "code",
   "execution_count": 97,
   "id": "f0acdf56-4ad8-4574-b19b-dafefbbabe6e",
   "metadata": {},
   "outputs": [
    {
     "name": "stdout",
     "output_type": "stream",
     "text": [
      "Fitting 5 folds for each of 15 candidates, totalling 75 fits\n",
      "Mejores hiperparámetros: {'clf__C': 10, 'svd__n_components': 200}\n"
     ]
    }
   ],
   "source": [
    "param_grid = {\n",
    "    'svd__n_components': [50, 100, 200], # diferentes reducciones de dimensionalidad\n",
    "    'clf__C': [0.01, 0.1, 1, 10, 100] # diferentes parámetros de regularización.\n",
    "}\n",
    "\n",
    "grid_search = GridSearchCV(\n",
    "    full_pipeline, \n",
    "    param_grid, \n",
    "    scoring='accuracy', \n",
    "    cv=5,\n",
    "    verbose=1\n",
    ")\n",
    "\n",
    "grid_search.fit(x_train, y_train)\n",
    "print(\"Mejores hiperparámetros:\", grid_search.best_params_)\n",
    "best_model = grid_search.best_estimator_\n"
   ]
  },
  {
   "cell_type": "markdown",
   "id": "0a891d7d-92b0-4936-848e-895e6fca10b1",
   "metadata": {},
   "source": [
    "#### 7. Evaluación (métricas y ejemplos concretos en un conjunto de prueba)"
   ]
  },
  {
   "cell_type": "markdown",
   "id": "5bd76c91",
   "metadata": {},
   "source": [
    "Se evalúa el modelo rendimiento del modelo en el conjunto de test."
   ]
  },
  {
   "cell_type": "code",
   "execution_count": 98,
   "id": "3da53482-2705-40e6-bd3b-529f4bcee0d5",
   "metadata": {
    "scrolled": true
   },
   "outputs": [
    {
     "name": "stdout",
     "output_type": "stream",
     "text": [
      "Evaluación en conjunto de prueba:\n",
      "              precision    recall  f1-score   support\n",
      "\n",
      "           1       0.80      0.82      0.81        87\n",
      "           2       0.81      0.73      0.77        64\n",
      "           3       0.89      0.88      0.88       184\n",
      "           4       0.94      0.97      0.95       209\n",
      "           5       0.90      0.91      0.90       189\n",
      "           6       0.90      0.95      0.92       147\n",
      "           7       0.92      0.90      0.91       183\n",
      "           8       0.61      0.60      0.60        94\n",
      "           9       0.71      0.73      0.72        77\n",
      "          10       0.69      0.55      0.61        66\n",
      "          11       0.79      0.81      0.80       117\n",
      "          12       0.87      0.85      0.86        72\n",
      "          13       0.86      0.85      0.85        91\n",
      "          14       0.92      0.81      0.86        73\n",
      "          15       0.91      0.91      0.91        70\n",
      "          16       0.89      0.97      0.93       209\n",
      "\n",
      "    accuracy                           0.86      1932\n",
      "   macro avg       0.84      0.83      0.83      1932\n",
      "weighted avg       0.86      0.86      0.86      1932\n",
      "\n"
     ]
    }
   ],
   "source": [
    "print(\"Evaluación en conjunto de prueba:\")\n",
    "y_test_pred = best_model.predict(x_test)\n",
    "print(classification_report(y_test, y_test_pred))\n"
   ]
  },
  {
   "cell_type": "markdown",
   "id": "16e0c527",
   "metadata": {},
   "source": [
    "El modelo obtuvó un accuracy del 86% lo cual es bueno, pero habría que buscar otros métodos para ver si se puede mejorar."
   ]
  },
  {
   "cell_type": "code",
   "execution_count": 105,
   "id": "5c301c2c-584b-4fdd-a724-2a336ba70878",
   "metadata": {},
   "outputs": [
    {
     "data": {
      "text/plain": [
       "Text(50.722222222222214, 0.5, 'Verdad')"
      ]
     },
     "execution_count": 105,
     "metadata": {},
     "output_type": "execute_result"
    },
    {
     "data": {
      "image/png": "[encoded data removed]",
      "text/plain": [
       "<Figure size 640x480 with 2 Axes>"
      ]
     },
     "metadata": {},
     "output_type": "display_data"
    }
   ],
   "source": [
    "cm = confusion_matrix(y_test, y_test_pred)\n",
    "sns.heatmap(cm,annot=True,fmt='g',cmap='Blues')\n",
    "plt.xlabel('Prediccion')\n",
    "plt.ylabel('Verdad')\n"
   ]
  },
  {
   "cell_type": "markdown",
   "id": "a831da5b",
   "metadata": {},
   "source": [
    "En la matriz de confusión se puede en la diagonal ver como el modelo predice la mayoría de los datos de manera correcta."
   ]
  },
  {
   "cell_type": "markdown",
   "id": "5628912e-b87f-4095-869a-0e93ff7f8a25",
   "metadata": {},
   "source": [
    "##### Ejemplos concretos de prediccion"
   ]
  },
  {
   "cell_type": "code",
   "execution_count": 94,
   "id": "cb795729-8e84-4f74-9ee8-1c91f8ceafa5",
   "metadata": {},
   "outputs": [
    {
     "name": "stdout",
     "output_type": "stream",
     "text": [
      "============================================================\n",
      "Texto:\n",
      "La prevalencia de niños con retraso en el crecimiento fue mayor en los grupos más pobres en casi todos los países en los que se disponía de datos de encuestas de nutrición recientes.5 En algunos países, la prevalencia entre el grupo más pobre era casi el doble del promedio nacional (Figura 9). Si bien la prevalencia de niños con sobrepeso es mayor en los grupos de mayores ingresos en la mayoría de los países, los grupos más pobres tuvieron una mayor prevalencia en Armenia y Serbia. La desnutrición, tanto la desnutrición como el sobrepeso, son problemas multicausales.\n",
      "\n",
      "ODS real: 2\n",
      "ODS predicho: 1\n",
      "============================================================ \n",
      "\n",
      "============================================================\n",
      "Texto:\n",
      "Esta diferencia, sin embargo, varía significativamente según el grupo socioeconómico. Mientras que el 44,1% de los estudiantes del PIE de nivel socioeconómico bajo son diagnosticados con una necesidad especial permanente, solo el 12% de los estudiantes del PIE de nivel socioeconómico alto son diagnosticados con dicha necesidad (ver Figura 3.5). También hay diferencias por proveedor de la escuela: las escuelas municipales tienen más probabilidades de matricular a estudiantes con discapacidades permanentes que las escuelas privadas subvencionadas.\n",
      "\n",
      "ODS real: 4\n",
      "ODS predicho: 4\n",
      "============================================================ \n",
      "\n",
      "============================================================\n",
      "Texto:\n",
      "El aumento de los ingresos de los pobres es el principal canal a través del cual el comercio puede contribuir a la seguridad alimentaria. Al mismo tiempo, el comercio puede hacer una contribución importante a las demás dimensiones de la seguridad alimentaria. El comercio de alimentos y productos agrícolas, en particular, aumenta la disponibilidad de alimentos al permitir que los productos fluyan de las áreas excedentarias a las deficitarias.\n",
      "\n",
      "ODS real: 2\n",
      "ODS predicho: 2\n",
      "============================================================ \n",
      "\n",
      "============================================================\n",
      "Texto:\n",
      "Las subvenciones a los gobiernos provinciales, de distrito y locales han aumentado considerablemente, lo que supone un cambio importante en el planteamiento del Gobierno para prestar servicios a las zonas rurales y remotas. Si bien el gran aumento de la financiación a los gobiernos provinciales y locales transferirá directamente grandes cantidades de fondos a las zonas rurales, se espera que esto ponga a prueba la capacidad de las provincias para aplicar eficazmente el ambicioso programa de prestación de servicios del Gobierno. Además, Papúa Nueva Guinea es digna de elogio por haber tomado medidas para establecer su Fondo Soberano, que se espera que esté operativo a finales de 2013.\n",
      "\n",
      "ODS real: 8\n",
      "ODS predicho: 11\n",
      "============================================================ \n",
      "\n"
     ]
    }
   ],
   "source": [
    "import random\n",
    "\n",
    "sample_indices = random.sample(list(df_test.index), 4)\n",
    "for idx in sample_indices:\n",
    "    raw_text = df_test.loc[idx, 'textos']\n",
    "    true_label = df_test.loc[idx, 'ODS']\n",
    "    pred_label = best_model.predict([raw_text])[0]\n",
    "    \n",
    "    print(\"=\"*60)\n",
    "    print(f\"Texto:\\n{raw_text}\\n\")\n",
    "    print(f\"ODS real: {true_label}\")\n",
    "    print(f\"ODS predicho: {pred_label}\")\n",
    "    print(\"=\"*60, \"\\n\")\n"
   ]
  },
  {
   "cell_type": "markdown",
   "id": "e2a1ac96-e6f5-48d6-9b9d-730788b394e1",
   "metadata": {},
   "source": [
    "#### 8. Conclusiones"
   ]
  },
  {
   "cell_type": "markdown",
   "id": "ade79518-1e5a-4007-adac-4730c020db2f",
   "metadata": {},
   "source": [
    "##### 1) Preparacion de datos y reduccion de al dimensionalidad:"
   ]
  },
  {
   "cell_type": "markdown",
   "id": "6f891cf8-db45-4be3-9fd1-9c5d266adca0",
   "metadata": {},
   "source": [
    " - Se ha justificado el uso de TF-IDF por resaltar términos relevantes \n",
    "     y SVD por condensar la información en menos dimensiones (50, 100 o 200), \n",
    "     mejorando tiempo de entrenamiento y reduciendo ruido."
   ]
  },
  {
   "cell_type": "markdown",
   "id": "9e03573b-de50-470a-8af1-c113d89bcfbb",
   "metadata": {},
   "source": [
    "##### 2) Resultados del modelo"
   ]
  },
  {
   "cell_type": "markdown",
   "id": "4b797fe7-4d4d-409a-a796-0ee9219f127d",
   "metadata": {},
   "source": [
    "El modelo alcanzó un desempeño destacado al clasificar automáticamente textos en relación con los distintos ODS. En promedio, la exactitud rondó alrededor del 86% en el conjunto de prueba, lo cual indicó que la mayoría de las clases fueron reconocidas con buenos valores de precisión, recall y f1-score. Sin embargo, se evidenció que ciertos ODS con menos ejemplos disponibles presentaron resultados más modestos, lo que sugirió la necesidad de recopilar más datos o ajustar algunas fases del preprocesamiento para mejorar aún más la robustez del modelo.\n",
    "\n",
    "Asimismo, la reducción de dimensionalidad mediante SVD contribuyó a una mayor eficiencia y a evitar el sobreajuste en un espacio inicial muy extenso producto de la representación TF-IDF. Esto, sumado a la búsqueda de hiperparámetros a través de GridSearchCV, permitió afinar los valores óptimos para la regresión logística, logrando un equilibrio entre complejidad y rendimiento. En última instancia, el uso de métricas globales y de ejemplos concretos demostró la solidez del enfoque para clasificar grandes volúmenes de texto en español, brindando una base confiable para su aplicación en contextos reales de análisis y toma de decisiones sobre los ODS.\n"
   ]
  },
  {
   "cell_type": "markdown",
   "id": "ab083d7c-18fb-4e30-a522-0a360feab06f",
   "metadata": {},
   "source": [
    "##### 3) Ejemplos reales:"
   ]
  },
  {
   "cell_type": "markdown",
   "id": "8cf1aa19-2a49-48de-8fdf-1aaa54e0362b",
   "metadata": {},
   "source": [
    "   - Se mostraron 4 textos del conjunto de prueba, junto a la \n",
    "     etiqueta real y la predicción, evidenciando la utilidad del modelo \n",
    "     para clasificar nuevos documentos."
   ]
  }
 ],
 "metadata": {
  "kernelspec": {
   "display_name": "Python 3 (ipykernel)",
   "language": "python",
   "name": "python3"
  },
  "language_info": {
   "codemirror_mode": {
    "name": "ipython",
    "version": 3
   },
   "file_extension": ".py",
   "mimetype": "text/x-python",
   "name": "python",
   "nbconvert_exporter": "python",
   "pygments_lexer": "ipython3",
   "version": "3.11.5"
  }
 },
 "nbformat": 4,
 "nbformat_minor": 5
}
