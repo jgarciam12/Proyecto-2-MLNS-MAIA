{
 "cells": [
  {
   "cell_type": "markdown",
   "id": "c3a007d8",
   "metadata": {},
   "source": [
    "Proyecto 2"
   ]
  },
  {
   "cell_type": "code",
   "execution_count": 1,
   "id": "52d49fb0",
   "metadata": {},
   "outputs": [],
   "source": [
    "import pandas as pd"
   ]
  },
  {
   "cell_type": "code",
   "execution_count": null,
   "id": "d836f696",
   "metadata": {},
   "outputs": [],
   "source": [
    "path = 'Microp'"
   ]
  }
 ],
 "metadata": {
  "kernelspec": {
   "display_name": "Python 3 (ipykernel)",
   "language": "python",
   "name": "python3"
  },
  "language_info": {
   "codemirror_mode": {
    "name": "ipython",
    "version": 3
   },
   "file_extension": ".py",
   "mimetype": "text/x-python",
   "name": "python",
   "nbconvert_exporter": "python",
   "pygments_lexer": "ipython3",
   "version": "3.11.5"
  }
 },
 "nbformat": 4,
 "nbformat_minor": 5
}
