{
 "cells": [
  {
   "cell_type": "markdown",
   "id": "f981f0f3",
   "metadata": {},
   "source": [
    "# Proyecto: Claficador de texto según las 17 ODS\n",
    "\n",
    "El objetivo del proyecto es desarrollar una solución, basada en técnicas de procesamiento del\n",
    "lenguaje natural y machine learning, que permita clasificar automáticamente un texto según los\n",
    "17 ODS, ofreciendo una forma de presentación de resultados a través de una herramienta de\n",
    "fácil comprensión para el usuario final.\n",
    "\n",
    "Para lograr este modelo, se realizaran los siguientes pasos:\n",
    "\n",
    "1. Importar las librerías necesarias.\n"
   ]
  },
  {
   "cell_type": "code",
   "execution_count": 1,
   "id": "96046449",
   "metadata": {},
   "outputs": [],
   "source": [
    "import pandas as pd"
   ]
  },
  {
   "cell_type": "code",
   "execution_count": 2,
   "id": "0f6a35de",
   "metadata": {},
   "outputs": [],
   "source": [
    "path = 'Clasificador de texto'"
   ]
  },
  {
   "cell_type": "code",
   "execution_count": 5,
   "id": "f7c19bb0",
   "metadata": {},
   "outputs": [
    {
     "data": {
      "text/html": [
       "<div>\n",
       "<style scoped>\n",
       "    .dataframe tbody tr th:only-of-type {\n",
       "        vertical-align: middle;\n",
       "    }\n",
       "\n",
       "    .dataframe tbody tr th {\n",
       "        vertical-align: top;\n",
       "    }\n",
       "\n",
       "    .dataframe thead th {\n",
       "        text-align: right;\n",
       "    }\n",
       "</style>\n",
       "<table border=\"1\" class=\"dataframe\">\n",
       "  <thead>\n",
       "    <tr style=\"text-align: right;\">\n",
       "      <th></th>\n",
       "      <th>textos</th>\n",
       "      <th>ODS</th>\n",
       "    </tr>\n",
       "  </thead>\n",
       "  <tbody>\n",
       "    <tr>\n",
       "      <th>8520</th>\n",
       "      <td>Los materiales reciclables no vendidos se alma...</td>\n",
       "      <td>12</td>\n",
       "    </tr>\n",
       "    <tr>\n",
       "      <th>2661</th>\n",
       "      <td>Además, las tasas de crecimiento anual del PIB...</td>\n",
       "      <td>11</td>\n",
       "    </tr>\n",
       "    <tr>\n",
       "      <th>6881</th>\n",
       "      <td>El gobierno alemán, por ejemplo, desarrolló po...</td>\n",
       "      <td>7</td>\n",
       "    </tr>\n",
       "    <tr>\n",
       "      <th>6870</th>\n",
       "      <td>Los servicios de banda ancha móvil se ofrecen ...</td>\n",
       "      <td>9</td>\n",
       "    </tr>\n",
       "    <tr>\n",
       "      <th>8331</th>\n",
       "      <td>La liberalización de los mercados financieros ...</td>\n",
       "      <td>10</td>\n",
       "    </tr>\n",
       "  </tbody>\n",
       "</table>\n",
       "</div>"
      ],
      "text/plain": [
       "                                                 textos  ODS\n",
       "8520  Los materiales reciclables no vendidos se alma...   12\n",
       "2661  Además, las tasas de crecimiento anual del PIB...   11\n",
       "6881  El gobierno alemán, por ejemplo, desarrolló po...    7\n",
       "6870  Los servicios de banda ancha móvil se ofrecen ...    9\n",
       "8331  La liberalización de los mercados financieros ...   10"
      ]
     },
     "execution_count": 5,
     "metadata": {},
     "output_type": "execute_result"
    }
   ],
   "source": [
    "df = pd.read_excel(path + '/Train_textosODS.xlsx')\n",
    "df.sample(5)"
   ]
  },
  {
   "cell_type": "code",
   "execution_count": 6,
   "id": "4b9ecc65",
   "metadata": {},
   "outputs": [
    {
     "name": "stdout",
     "output_type": "stream",
     "text": [
      "Tamaño de los datos: (9656, 2)\n"
     ]
    }
   ],
   "source": [
    "print('Tamaño de los datos:',df.shape)"
   ]
  },
  {
   "cell_type": "code",
   "execution_count": 10,
   "id": "1ffec8c4",
   "metadata": {},
   "outputs": [
    {
     "name": "stdout",
     "output_type": "stream",
     "text": [
      "Cantidad de datos nulos:\n",
      "textos    0\n",
      "ODS       0\n",
      "dtype: int64\n"
     ]
    }
   ],
   "source": [
    "print('Cantidad de datos nulos:')\n",
    "print(df.isna().sum())"
   ]
  },
  {
   "cell_type": "code",
   "execution_count": 11,
   "id": "414b489e",
   "metadata": {},
   "outputs": [
    {
     "name": "stdout",
     "output_type": "stream",
     "text": [
      "Cantidad de datos duplicados:\n",
      "0\n"
     ]
    }
   ],
   "source": [
    "print('Cantidad de datos duplicados:')\n",
    "print(df.duplicated().sum())"
   ]
  },
  {
   "cell_type": "code",
   "execution_count": null,
   "id": "9df9c75b",
   "metadata": {},
   "outputs": [],
   "source": []
  }
 ],
 "metadata": {
  "kernelspec": {
   "display_name": "Python 3 (ipykernel)",
   "language": "python",
   "name": "python3"
  },
  "language_info": {
   "codemirror_mode": {
    "name": "ipython",
    "version": 3
   },
   "file_extension": ".py",
   "mimetype": "text/x-python",
   "name": "python",
   "nbconvert_exporter": "python",
   "pygments_lexer": "ipython3",
   "version": "3.11.5"
  }
 },
 "nbformat": 4,
 "nbformat_minor": 5
}
